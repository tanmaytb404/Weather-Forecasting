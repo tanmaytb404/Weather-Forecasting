{
  "nbformat": 4,
  "nbformat_minor": 0,
  "metadata": {
    "colab": {
      "name": "WeatherScripting.ipynb",
      "provenance": [],
      "mount_file_id": "1P1YswQeD_aOFZ48QruC26ffLRVotfSCB",
      "authorship_tag": "ABX9TyNYjg+9gHgnNN9i++/Yas9m",
      "include_colab_link": true
    },
    "kernelspec": {
      "name": "python3",
      "display_name": "Python 3"
    },
    "language_info": {
      "name": "python"
    },
    "accelerator": "GPU"
  },
  "cells": [
    {
      "cell_type": "markdown",
      "metadata": {
        "id": "view-in-github",
        "colab_type": "text"
      },
      "source": [
        "<a href=\"https://colab.research.google.com/github/tanmaytb404/Weather-Forecasting/blob/main/WeatherScripting.ipynb\" target=\"_parent\"><img src=\"https://colab.research.google.com/assets/colab-badge.svg\" alt=\"Open In Colab\"/></a>"
      ]
    },
    {
      "cell_type": "code",
      "source": [
        "!pip3 install --upgrade google-api-python-client google-auth-httplib2 google-auth-oauthlib"
      ],
      "metadata": {
        "id": "rb_YnlId1kSb"
      },
      "execution_count": null,
      "outputs": []
    },
    {
      "cell_type": "code",
      "source": [
        "from googleapiclient.discovery import build\n",
        "from google.oauth2 import service_account\n",
        "import json\n",
        "import requests\n",
        "import os\n",
        "from datetime import datetime"
      ],
      "metadata": {
        "id": "C-ZZVaLlNJ6y"
      },
      "execution_count": null,
      "outputs": []
    },
    {
      "cell_type": "code",
      "source": [
        "api = \"64jIgXufKaO2Hzo3TUv1yuTGOXoVUNqZ\"\n",
        "aoa = [[]]\n",
        "def  CurrentConditions(key):\n",
        "  url = \"http://dataservice.accuweather.com/currentconditions/v1/\"+key+\"?apikey=64jIgXufKaO2Hzo3TUv1yuTGOXoVUNqZ&details=true\"\n",
        "  api_link = requests.get(url)\n",
        "  api_data = api_link.json()\n",
        "  # print(api_data)\n",
        "  aoa[0].append(api_data[0]['LocalObservationDateTime'])\n",
        "  aoa[0].append(api_data[0]['WeatherText'])\n",
        "  aoa[0].append(api_data[0]['PrecipitationType'])\n",
        "  aoa[0].append(api_data[0]['Temperature']['Metric']['Value'])\n",
        "  aoa[0].append(api_data[0]['RealFeelTemperature']['Metric']['Value'])\n",
        "  aoa[0].append(api_data[0]['RelativeHumidity'])\n",
        "  aoa[0].append(api_data[0]['Wind']['Speed']['Metric']['Value'])\n",
        "  aoa[0].append(api_data[0]['Wind']['Direction']['Degrees'])\n",
        "  aoa[0].append(api_data[0]['Visibility']['Metric']['Value'])\n",
        "  aoa[0].append(api_data[0]['CloudCover'])\n",
        "  aoa[0].append(api_data[0]['Pressure']['Metric']['Value'])\n",
        "  print(aoa)\n",
        "key = input(\"Enter the pincode: \")\n",
        "CurrentConditions(key)\n",
        "\n",
        "\n",
        "\n",
        "SERVICE_ACCOUNT_FILE = '/content/drive/MyDrive/Colab Notebooks/keys.json'\n",
        "SCOPES = ['https://www.googleapis.com/auth/spreadsheets']\n",
        "creds = None\n",
        "creds = service_account.Credentials.from_service_account_file(\n",
        "        SERVICE_ACCOUNT_FILE, scopes=SCOPES)\n",
        "\n",
        "# The ID of spreadsheet.\n",
        "SAMPLE_SPREADSHEET_ID = '1jbhjB3fUgeJkn-NZAxKPn4gO0qOvYU1aY1H76ZLXpXw'\n",
        "service = build('sheets', 'v4', credentials=creds)\n",
        "\n",
        "# Call the Sheets API\n",
        "sheet = service.spreadsheets()\n",
        "request = sheet.values().update(spreadsheetId=SAMPLE_SPREADSHEET_ID, \n",
        "                            range=\"sheet1!A2\", valueInputOption=\"USER_ENTERED\", body={\"values\":aoa}).execute()"
      ],
      "metadata": {
        "colab": {
          "base_uri": "https://localhost:8080/"
        },
        "id": "FvkkVQVpE7Dw",
        "outputId": "daf04357-0342-42ff-fb92-a542593911ff"
      },
      "execution_count": null,
      "outputs": [
        {
          "output_type": "stream",
          "name": "stdout",
          "text": [
            "Enter the pincode: 180003\n",
            "[['2022-02-19T20:07:00+01:00', 'Cloudy', None, 4.8, -0.1, 61, 18.5, 180, 16.1, 91, 1011.0]]\n"
          ]
        }
      ]
    }
  ]
}